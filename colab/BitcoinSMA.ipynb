{
 "cells": [
  {
   "cell_type": "code",
   "execution_count": null,
   "metadata": {},
   "outputs": [],
   "source": [
    "import pandas as pd\n",
    "import matplotlib.pyplot as plt\n",
    "\n",
    "%matplotlib inline\n",
    "\n",
    "def CryptoData(symbol, frequency, start=0):\n",
    "    #Params: String symbol, int frequency = 300,900,1800,7200,14400,86400\n",
    "    #Returns: df from first available date\n",
    "    url ='https://poloniex.com/public?command=returnChartData&currencyPair='+symbol+'&end=9999999999&period='+str(frequency)+'&start='+str(start)\n",
    "    df = pd.read_json(url)\n",
    "    df.set_index('date',inplace=True)\n",
    "    return df\n",
    "\n"
   ]
  },
  {
   "cell_type": "code",
   "execution_count": null,
   "metadata": {},
   "outputs": [],
   "source": [
    "startDate = 0 \n",
    "#startDate = 1514764800 #2018-1-1\n",
    "\n",
    "testSymbol = 'USDT_BTC' #bitCoin\n",
    "#testSymbol = 'BTC_LTC'\n"
   ]
  },
  {
   "cell_type": "code",
   "execution_count": null,
   "metadata": {},
   "outputs": [],
   "source": [
    "# frequency = 86400s which is 1 day\n",
    "df = CryptoData(testSymbol, 86400, startDate)\n",
    "df"
   ]
  },
  {
   "cell_type": "code",
   "execution_count": null,
   "metadata": {},
   "outputs": [],
   "source": [
    "df['close'].plot(figsize = (16,10))"
   ]
  },
  {
   "cell_type": "code",
   "execution_count": null,
   "metadata": {},
   "outputs": [],
   "source": [
    "print(df['close'].pct_change().describe())\n",
    "df['close'].pct_change().hist(bins=100)"
   ]
  },
  {
   "cell_type": "code",
   "execution_count": null,
   "metadata": {},
   "outputs": [],
   "source": [
    "# lead and lag days\n",
    "lead = 5 \n",
    "lag = 15\n",
    "\n",
    "df['SMA_Lead'] = df['close'].rolling(lead).mean()\n",
    "df['SMA_Lag'] = df['close'].rolling(lag).mean()\n",
    "df[['SMA_Lead','SMA_Lag']].plot(figsize = (16,10))"
   ]
  },
  {
   "cell_type": "code",
   "execution_count": null,
   "metadata": {},
   "outputs": [],
   "source": [
    "# SMA crossover strategy consists of a leading and a lagging simple moving averages. \n",
    "# Leading SMA has a shorter look-back period than lagging moving average. \n",
    "# Hence, by definition, leading SMA will be more sensitive to most recent price moves; lagging SMA will be slower to react\n",
    "\n",
    "# 1. LONG: if Leading SMA is above Lagging SMA by some threshold\n",
    "# 2. SHORT: if Leading SMA is below Lagging SMA by some threshold\n",
    "# 3. FLAT: threshold is applied to filter out weak signals and flat the current position \n",
    "\n",
    "\n",
    "import numpy as np\n",
    "\n",
    "def test_ma(df, lead, lag, pc_thresh = 0.025):\n",
    "    ma_df = df.copy()\n",
    "    ma_df['lead'] = ma_df['close'].rolling(lead).mean()\n",
    "    ma_df['lag'] = ma_df['close'].rolling(lag).mean()\n",
    "    ma_df.dropna(inplace = True)\n",
    "    ma_df['lead-lag'] = ma_df['lead'] - ma_df['lag']\n",
    "    ma_df['pc_diff'] = ma_df['lead-lag'] / ma_df['close']\n",
    "\n",
    "    # regime column will govern the buying and selling logic as described above; \n",
    "    # 1 means that we are long, -1 means that we are short and 0 means no position\n",
    "    ma_df['regime'] = np.where(ma_df['pc_diff'] > pc_thresh, 1, 0)\n",
    "    ma_df['regime'] = np.where(ma_df['pc_diff'] < -pc_thresh, -1, ma_df['regime'])\n",
    "    \n",
    "    # Market column as log returns of price series - which is the market performance\n",
    "    ma_df['Market'] = np.log(ma_df['close'] / ma_df['close'].shift(1))\n",
    "    \n",
    "    # compute our Strategy returns by multiplying regime (shifted forward to match the Market column\n",
    "    ma_df['Strategy'] = ma_df['regime'].shift(1) * ma_df['Market']\n",
    "    \n",
    "    # perform a cumulative sum operation as well as apply an exponent on Market and Strategy log returns \n",
    "    # in order to recover the original normalised series\n",
    "    ma_df[['Market','Strategy']] = ma_df[['Market','Strategy']].cumsum().apply(np.exp)\n",
    "    return ma_df"
   ]
  },
  {
   "cell_type": "code",
   "execution_count": null,
   "metadata": {},
   "outputs": [],
   "source": [
    "threshold = 0.1\n",
    "ma_df = test_ma(df, lead, lag, threshold).dropna()\n",
    "\n",
    "ma_df['regime'].plot(figsize=(16,5))"
   ]
  },
  {
   "cell_type": "code",
   "execution_count": null,
   "metadata": {},
   "outputs": [],
   "source": [
    "# Strategy: SMA long/short\n",
    "# market: buy_and_hold strategy\n",
    "ma_df[['Strategy','Market']].iloc[-1]"
   ]
  },
  {
   "cell_type": "code",
   "execution_count": null,
   "metadata": {},
   "outputs": [],
   "source": [
    "ma_df[['Strategy','Market']].plot(figsize = (16,10))"
   ]
  }
 ],
 "metadata": {
  "kernelspec": {
   "display_name": "Python 3",
   "language": "python",
   "name": "python3"
  },
  "language_info": {
   "codemirror_mode": {
    "name": "ipython",
    "version": 3
   },
   "file_extension": ".py",
   "mimetype": "text/x-python",
   "name": "python",
   "nbconvert_exporter": "python",
   "pygments_lexer": "ipython3",
   "version": "3.6.5"
  }
 },
 "nbformat": 4,
 "nbformat_minor": 2
}
