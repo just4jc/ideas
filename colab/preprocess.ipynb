{
 "cells": [
  {
   "cell_type": "code",
   "execution_count": null,
   "metadata": {},
   "outputs": [],
   "source": [
    "!pip install nltk"
   ]
  },
  {
   "cell_type": "code",
   "execution_count": null,
   "metadata": {},
   "outputs": [],
   "source": [
    "import re\n",
    "\n",
    "import nltk\n",
    "nltk.download('stopwords')\n",
    "nltk.download('wordnet')\n",
    "from nltk.corpus import stopwords\n",
    "\n",
    "wnl = nltk.WordNetLemmatizer()\n",
    "stop_words = set(stopwords.words('english'))"
   ]
  },
  {
   "cell_type": "code",
   "execution_count": null,
   "metadata": {},
   "outputs": [],
   "source": [
    "def _removeSymbols(text):\n",
    "    removeSymRx = re.compile('\\W')\n",
    "            \n",
    "    return re.sub(removeSymRx, \" \", text)    \n",
    "\n",
    "    \n",
    "def _stem(text):\n",
    "    stemmed_words = []\n",
    "    #  am, are, is -> be\n",
    "    # car, cars, car's, cars' -> car\n",
    "    for t in text.split():\n",
    "        lemmatized = wnl.lemmatize(t)\n",
    "        if (len(lemmatized) > 1 and lemmatized.isdigit() == False):\n",
    "            stemmed_words.append(lemmatized)\n",
    "\n",
    "    return ' '.join(stemmed_words)\n",
    "    \n",
    "\n",
    "def _subWholeText(subText, text):\n",
    "    for k, v in subText.items():\n",
    "        text = re.sub(r\"\\b%s\\b\" % k, v, text)\n",
    "        # r\"\\b%s\\b\"% enables replacing by whole word matches only\n",
    "    return text\n",
    "\n",
    "    \n",
    "def _subText(subText, text):\n",
    "    for k in subText:\n",
    "        text = text.replace(k, subText[k])\n",
    "        \n",
    "    return text\n",
    "    \n",
    "    \n",
    "def _stop(text):\n",
    "    stopped_words = []\n",
    "\n",
    "    for t in text.split():\n",
    "        if (t not in stop_words):\n",
    "            stopped_words.append(t)\n",
    "\n",
    "    return ' '.join(stopped_words)\n",
    "\n",
    "\n",
    "def process(text):\n",
    "    # remove symbols\n",
    "    text = _removeSymbols(text)\n",
    "\n",
    "    # To lower case\n",
    "    text = text.lower()\n",
    "\n",
    "    # Stem the words\n",
    "    text = _stem(text)\n",
    "    \n",
    "    #remove stop words\n",
    "    text = _stop(text)\n",
    "\n",
    "    return text\n",
    "    "
   ]
  },
  {
   "cell_type": "code",
   "execution_count": null,
   "metadata": {},
   "outputs": [],
   "source": [
    "text = \"How are you, Tom? How many works do you have to work?\"\n",
    "print(_removeSymbols(text))"
   ]
  },
  {
   "cell_type": "code",
   "execution_count": null,
   "metadata": {},
   "outputs": [],
   "source": [
    "text = \"How are you, Tom? How many works do you have to work?\"\n",
    "print(text.lower())"
   ]
  },
  {
   "cell_type": "code",
   "execution_count": null,
   "metadata": {},
   "outputs": [],
   "source": [
    "text = \"How are you, Tom? How many works do you have to work?\"\n",
    "print(_stem(text))"
   ]
  },
  {
   "cell_type": "code",
   "execution_count": null,
   "metadata": {},
   "outputs": [],
   "source": [
    "text = \"How are you, Tom? How many works do you have to work?\"\n",
    "print(_stop(text))"
   ]
  },
  {
   "cell_type": "code",
   "execution_count": null,
   "metadata": {},
   "outputs": [],
   "source": [
    "text = \"How are you, Tom? How many works do you have to work?\"\n",
    "print(process(text))"
   ]
  },
  {
   "cell_type": "code",
   "execution_count": null,
   "metadata": {},
   "outputs": [],
   "source": [
    "stop_words"
   ]
  }
 ],
 "metadata": {
  "kernelspec": {
   "display_name": "Python 3",
   "language": "python",
   "name": "python3"
  },
  "language_info": {
   "codemirror_mode": {
    "name": "ipython",
    "version": 3
   },
   "file_extension": ".py",
   "mimetype": "text/x-python",
   "name": "python",
   "nbconvert_exporter": "python",
   "pygments_lexer": "ipython3",
   "version": "3.6.4"
  }
 },
 "nbformat": 4,
 "nbformat_minor": 2
}
