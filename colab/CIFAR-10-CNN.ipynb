{
 "cells": [
  {
   "cell_type": "code",
   "execution_count": null,
   "metadata": {},
   "outputs": [],
   "source": [
    "import matplotlib.pyplot as plt\n",
    "\n",
    "import keras\n",
    "from keras import layers\n",
    "from keras import models\n",
    "from keras.datasets import cifar10\n",
    "from keras.optimizers import RMSprop"
   ]
  },
  {
   "cell_type": "code",
   "execution_count": null,
   "metadata": {},
   "outputs": [],
   "source": [
    "# https://www.cs.toronto.edu/~kriz/cifar.html\n",
    "(x_train, y_train), (x_test, y_test) = cifar10.load_data()\n",
    "\n",
    "labels = {\n",
    "    0: \"plane\",\n",
    "    1: \"car  \",\n",
    "    2: \"bird \",\n",
    "    3: \"cat  \",\n",
    "    4: \"deer \",\n",
    "    5: \"dog  \",\n",
    "    6: \"frog \",\n",
    "    7: \"horse\",\n",
    "    8: \"ship \",\n",
    "    9: \"truck\",    \n",
    "}\n",
    "\n",
    "print(x_train.shape)\n",
    "print(y_train.shape)\n",
    "print(x_test.shape)\n",
    "print(y_test.shape)"
   ]
  },
  {
   "cell_type": "code",
   "execution_count": null,
   "metadata": {},
   "outputs": [],
   "source": [
    "# Visual the data\n",
    "\n",
    "index = 1\n",
    "\n",
    "print(x_train[index])\n",
    "first_image = x_train[index]\n",
    "plt.imshow(first_image)\n",
    "plt.show()\n",
    "\n",
    "print(\"Label:\", labels[y_train[index][0]])"
   ]
  },
  {
   "cell_type": "code",
   "execution_count": null,
   "metadata": {},
   "outputs": [],
   "source": [
    "# reshape the 32x32x3 pixels \n",
    "# and normalize the number by 255\n",
    "\n",
    "x_trainp = x_train.reshape(50000, 32, 32, 3)\n",
    "x_testp = x_test.reshape(10000, 32, 32, 3)\n",
    "\n",
    "x_trainp = x_trainp.astype('float32') / 255\n",
    "x_testp = x_testp.astype('float32') / 255\n",
    "\n",
    "print(x_trainp.shape[0], 'train samples')\n",
    "print(x_testp.shape[0], 'test samples')"
   ]
  },
  {
   "cell_type": "code",
   "execution_count": null,
   "metadata": {},
   "outputs": [],
   "source": [
    "# convert class vectors to binary class matrices: one-hot encoding\n",
    "num_classes = 10\n",
    "\n",
    "y_trainp = keras.utils.to_categorical(y_train, num_classes)\n",
    "y_testp = keras.utils.to_categorical(y_test, num_classes)\n",
    "\n",
    "print(\"Label 6 is \", y_trainp[0])"
   ]
  },
  {
   "cell_type": "code",
   "execution_count": null,
   "metadata": {},
   "outputs": [],
   "source": [
    "model = models.Sequential()\n",
    "\n",
    "model.add(layers.Conv2D(32, (3, 3), activation='relu', input_shape=(32, 32, 3)))\n",
    "model.add(layers.MaxPooling2D((2, 2)))\n",
    "model.add(layers.Conv2D(64, (3, 3), activation='relu'))\n",
    "model.add(layers.MaxPooling2D((2, 2)))\n",
    "model.add(layers.Conv2D(64, (3, 3), activation='relu'))\n",
    "\n",
    "model.add(layers.Flatten())\n",
    "model.add(layers.Dense(64, activation='relu'))\n",
    "model.add(layers.Dense(10, activation='softmax'))\n",
    "\n",
    "model.compile(loss='categorical_crossentropy',\n",
    "              optimizer=RMSprop(),\n",
    "              metrics=['accuracy'])\n",
    "\n",
    "model.summary()"
   ]
  },
  {
   "cell_type": "code",
   "execution_count": null,
   "metadata": {},
   "outputs": [],
   "source": [
    "batch_size = 128\n",
    "epochs = 10\n",
    "\n",
    "# Set aside the first 10,000 samples as the validation set \n",
    "x_valp = x_trainp[:10000]\n",
    "partial_x_trainp = x_trainp[10000:]\n",
    "\n",
    "y_valp = y_trainp[:10000]\n",
    "partial_y_trainp = y_trainp[10000:]\n",
    "\n",
    "\n",
    "history = model.fit(partial_x_trainp, partial_y_trainp,\n",
    "                    batch_size=batch_size,\n",
    "                    epochs=epochs,\n",
    "                    verbose=1,\n",
    "                    validation_data=(x_valp, y_valp))"
   ]
  },
  {
   "cell_type": "code",
   "execution_count": null,
   "metadata": {},
   "outputs": [],
   "source": [
    "# Do the prediction on test set\n",
    "score = model.evaluate(x_testp, y_testp, verbose=0)\n",
    "print('Test loss:', score[0])\n",
    "print('Test accuracy:', score[1])\n",
    "\n",
    "ans = model.predict(x_testp)"
   ]
  },
  {
   "cell_type": "code",
   "execution_count": null,
   "metadata": {},
   "outputs": [],
   "source": [
    "# Predict individual image\n",
    "p_index = 1\n",
    "\n",
    "first_image = x_test[p_index]\n",
    "plt.imshow(first_image)\n",
    "plt.show()\n",
    "\n",
    "count = 0\n",
    "for a in ans[p_index]:\n",
    "    print(labels[count], \"=\", a*100)\n",
    "    count = count + 1"
   ]
  },
  {
   "cell_type": "code",
   "execution_count": null,
   "metadata": {},
   "outputs": [],
   "source": []
  }
 ],
 "metadata": {
  "kernelspec": {
   "display_name": "Python 3",
   "language": "python",
   "name": "python3"
  },
  "language_info": {
   "codemirror_mode": {
    "name": "ipython",
    "version": 3
   },
   "file_extension": ".py",
   "mimetype": "text/x-python",
   "name": "python",
   "nbconvert_exporter": "python",
   "pygments_lexer": "ipython3",
   "version": "3.6.4"
  }
 },
 "nbformat": 4,
 "nbformat_minor": 2
}
