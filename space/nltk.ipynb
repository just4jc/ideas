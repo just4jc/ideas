{
 "cells": [
  {
   "cell_type": "code",
   "execution_count": null,
   "metadata": {},
   "outputs": [],
   "source": [
    "!pip install nltk"
   ]
  },
  {
   "cell_type": "code",
   "execution_count": null,
   "metadata": {},
   "outputs": [],
   "source": [
    "import nltk\n",
    "\n",
    "nltk.download('punkt')\n",
    "nltk.download('averaged_perceptron_tagger')\n",
    "nltk.download('wordnet')"
   ]
  },
  {
   "cell_type": "code",
   "execution_count": null,
   "metadata": {},
   "outputs": [],
   "source": [
    "sentence = \"\"\"At eight o'clock on Thursday morning\n",
    "... Arthur didn't feel very good.\"\"\"\n",
    "\n",
    "tokens = nltk.word_tokenize(sentence)\n",
    "tokens"
   ]
  },
  {
   "cell_type": "code",
   "execution_count": null,
   "metadata": {},
   "outputs": [],
   "source": [
    "tagged = nltk.pos_tag(tokens)\n",
    "tagged[0:6]"
   ]
  },
  {
   "cell_type": "code",
   "execution_count": null,
   "metadata": {},
   "outputs": [],
   "source": [
    "from nltk.stem import PorterStemmer\n",
    "\n",
    "s = PorterStemmer()\n",
    "print(s.stem('Having'))\n",
    "print(s.stem('Have'))\n",
    "print(s.stem('Had'))\n",
    "\n",
    "print(s.stem('Fishing'))\n",
    "print(s.stem('Fish'))\n",
    "print(s.stem('Fisher'))\n",
    "print(s.stem('Fishes'))\n",
    "print(s.stem('Fished'))"
   ]
  },
  {
   "cell_type": "code",
   "execution_count": null,
   "metadata": {},
   "outputs": [],
   "source": [
    "# You'll need the \"wordnet\" package from NLTK data\n",
    "# python -m nltk.downloader wordnet\n",
    "from nltk.stem import WordNetLemmatizer\n",
    "\n",
    "s = WordNetLemmatizer()\n",
    "print(s.lemmatize('having', pos='v'))\n",
    "print(s.lemmatize('have', pos='v'))\n",
    "print(s.lemmatize('had', pos='v'))\n",
    "\n",
    "print(s.lemmatize('fishing', pos='v'))\n",
    "print(s.lemmatize('fish', pos='v'))\n",
    "print(s.lemmatize('fisher', pos='n'))\n",
    "print(s.lemmatize('fishes', pos='v'))\n",
    "print(s.lemmatize('fished', pos='v'))\n",
    "\n",
    "print(s.lemmatize('am', pos='v'))\n",
    "print(s.lemmatize('is', pos='v'))\n",
    "print(s.lemmatize('was', pos='v'))"
   ]
  },
  {
   "cell_type": "code",
   "execution_count": null,
   "metadata": {},
   "outputs": [],
   "source": []
  }
 ],
 "metadata": {
  "kernelspec": {
   "display_name": "Python 3",
   "language": "python",
   "name": "python3"
  },
  "language_info": {
   "codemirror_mode": {
    "name": "ipython",
    "version": 3
   },
   "file_extension": ".py",
   "mimetype": "text/x-python",
   "name": "python",
   "nbconvert_exporter": "python",
   "pygments_lexer": "ipython3",
   "version": "3.6.4"
  }
 },
 "nbformat": 4,
 "nbformat_minor": 2
}
